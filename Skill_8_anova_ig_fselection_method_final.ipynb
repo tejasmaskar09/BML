{
  "nbformat": 4,
  "nbformat_minor": 0,
  "metadata": {
    "colab": {
      "provenance": [],
      "authorship_tag": "ABX9TyOHXz1P9ITLhlmWdxtZN6zN",
      "include_colab_link": true
    },
    "kernelspec": {
      "name": "python3",
      "display_name": "Python 3"
    },
    "language_info": {
      "name": "python"
    }
  },
  "cells": [
    {
      "cell_type": "markdown",
      "metadata": {
        "id": "view-in-github",
        "colab_type": "text"
      },
      "source": [
        "<a href=\"https://colab.research.google.com/github/tejasmaskar09/BML/blob/main/Skill_8_anova_ig_fselection_method_final.ipynb\" target=\"_parent\"><img src=\"https://colab.research.google.com/assets/colab-badge.svg\" alt=\"Open In Colab\"/></a>"
      ]
    },
    {
      "cell_type": "code",
      "source": [
        "\n",
        "from sklearn.feature_selection import f_classif, SelectKBest\n",
        "import pandas as pd\n",
        "\n",
        "# Load dataset\n",
        "df = pd.read_csv('/content/Diabetes.csv')\n",
        "\n",
        "# Define target variable\n",
        "target = \"diabetes\" if \"diabetes\" in df.columns else df.columns[-1]\n",
        "\n",
        "# Separate features and target\n",
        "X = df.drop(columns=[target])\n",
        "y = df[target]\n",
        "\n",
        "# Convert categorical target to numeric if needed\n",
        "if y.dtype == 'object':\n",
        "    from sklearn.preprocessing import LabelEncoder\n",
        "    y = LabelEncoder().fit_transform(y)\n",
        "\n",
        "# Apply ANOVA F-test\n",
        "anova_selector = SelectKBest(score_func=f_classif, k='all')\n",
        "anova_selector.fit(X, y)\n",
        "\n",
        "# Create DataFrame with scores\n",
        "anova_scores = pd.DataFrame({'Feature': X.columns, 'ANOVA F Score': anova_selector.scores_})\n",
        "anova_scores = anova_scores.sort_values(by='ANOVA F Score', ascending=False)\n",
        "\n",
        "# Display top 10 features\n",
        "print(anova_scores.head(10))\n"
      ],
      "metadata": {
        "colab": {
          "base_uri": "https://localhost:8080/"
        },
        "id": "d15wivpJpcT5",
        "outputId": "caa06394-572e-4d1d-bce5-9235c36db270"
      },
      "execution_count": 29,
      "outputs": [
        {
          "output_type": "stream",
          "name": "stdout",
          "text": [
            "       Feature  ANOVA F Score\n",
            "1      glucose     213.161752\n",
            "5          bmi      71.772072\n",
            "7          age      46.140611\n",
            "0  pregnancies      39.670227\n",
            "6          dpf      23.871300\n",
            "4      insulin      13.281108\n",
            "3      triceps       4.304381\n",
            "2    diastolic       3.256950\n"
          ]
        }
      ]
    },
    {
      "cell_type": "code",
      "source": [
        "from sklearn.feature_selection import mutual_info_classif\n",
        "\n",
        "# Apply Mutual Information for classification\n",
        "mi_scores = mutual_info_classif(X, y)\n",
        "\n",
        "# Create DataFrame with scores\n",
        "ig_scores = pd.DataFrame({'Feature': X.columns, 'Information Gain': mi_scores})\n",
        "ig_scores = ig_scores.sort_values(by='Information Gain', ascending=False)\n",
        "\n",
        "# Display top 10 features\n",
        "print(ig_scores.head(10))\n"
      ],
      "metadata": {
        "colab": {
          "base_uri": "https://localhost:8080/"
        },
        "id": "7Qd0oHqVp31_",
        "outputId": "f74f69ac-ab2d-4ea0-a8fb-064132c72846"
      },
      "execution_count": 30,
      "outputs": [
        {
          "output_type": "stream",
          "name": "stdout",
          "text": [
            "       Feature  Information Gain\n",
            "1      glucose          0.121804\n",
            "5          bmi          0.077754\n",
            "7          age          0.065694\n",
            "4      insulin          0.048646\n",
            "0  pregnancies          0.034335\n",
            "2    diastolic          0.027541\n",
            "6          dpf          0.011916\n",
            "3      triceps          0.009781\n"
          ]
        }
      ]
    },
    {
      "cell_type": "code",
      "source": [
        "from sklearn.feature_selection import mutual_info_classif\n",
        "\n",
        "# Compute Mutual Information scores\n",
        "mi_scores = mutual_info_classif(X, y)\n",
        "mi_scores_df = pd.DataFrame({'Feature': X.columns, 'Mutual Info Score': mi_scores})\n",
        "mi_scores_df = mi_scores_df.sort_values(by='Mutual Info Score', ascending=False)\n",
        "\n",
        "print(mi_scores_df.head(10))  # Top 10 features\n"
      ],
      "metadata": {
        "colab": {
          "base_uri": "https://localhost:8080/"
        },
        "id": "UZOYng7Xp-yP",
        "outputId": "c1aafa02-afb4-4930-ba0c-dd38eb7f624f"
      },
      "execution_count": 28,
      "outputs": [
        {
          "output_type": "stream",
          "name": "stdout",
          "text": [
            "       Feature  Mutual Info Score\n",
            "1      glucose           0.127674\n",
            "5          bmi           0.074770\n",
            "7          age           0.048987\n",
            "0  pregnancies           0.032122\n",
            "4      insulin           0.025058\n",
            "6          dpf           0.016531\n",
            "3      triceps           0.011542\n",
            "2    diastolic           0.000000\n"
          ]
        }
      ]
    }
  ]
}