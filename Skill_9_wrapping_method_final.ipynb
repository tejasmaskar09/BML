{
  "nbformat": 4,
  "nbformat_minor": 0,
  "metadata": {
    "colab": {
      "provenance": [],
      "authorship_tag": "ABX9TyOHjXlE3WyrXUsg+K+OaHYl",
      "include_colab_link": true
    },
    "kernelspec": {
      "name": "python3",
      "display_name": "Python 3"
    },
    "language_info": {
      "name": "python"
    }
  },
  "cells": [
    {
      "cell_type": "markdown",
      "metadata": {
        "id": "view-in-github",
        "colab_type": "text"
      },
      "source": [
        "<a href=\"https://colab.research.google.com/github/tejasmaskar09/BML/blob/main/Skill_9_wrapping_method_final.ipynb\" target=\"_parent\"><img src=\"https://colab.research.google.com/assets/colab-badge.svg\" alt=\"Open In Colab\"/></a>"
      ]
    },
    {
      "cell_type": "code",
      "source": [
        "from sklearn.feature_selection import RFE\n",
        "from sklearn.ensemble import RandomForestClassifier\n",
        "import pandas as pd\n",
        "\n",
        "# Load dataset\n",
        "df = pd.read_csv('/content/Diabetes.csv')\n",
        "\n",
        "# Define target variable\n",
        "target = \"diabetes\" if \"diabetes\" in df.columns else df.columns[-1]\n",
        "\n",
        "# Separate features and target\n",
        "X = df.drop(columns=[target])\n",
        "y = df[target]\n",
        "\n",
        "# Convert categorical target to numeric if needed\n",
        "if y.dtype == 'object':\n",
        "    from sklearn.preprocessing import LabelEncoder\n",
        "    y = LabelEncoder().fit_transform(y)\n",
        "\n",
        "# Define model\n",
        "model = RandomForestClassifier()\n",
        "\n",
        "# Apply RFE (select top 5 features)\n",
        "rfe_selector = RFE(estimator=model, n_features_to_select=5)\n",
        "rfe_selector.fit(X, y)\n",
        "\n",
        "# Get selected features\n",
        "selected_features = X.columns[rfe_selector.support_]\n",
        "print(\"Selected Features:\", selected_features)\n"
      ],
      "metadata": {
        "colab": {
          "base_uri": "https://localhost:8080/"
        },
        "id": "d15wivpJpcT5",
        "outputId": "c7f111c0-31e7-40b4-a485-b018c09caf5c"
      },
      "execution_count": 32,
      "outputs": [
        {
          "output_type": "stream",
          "name": "stdout",
          "text": [
            "Selected Features: Index(['glucose', 'diastolic', 'bmi', 'dpf', 'age'], dtype='object')\n"
          ]
        }
      ]
    },
    {
      "cell_type": "code",
      "source": [
        "from sklearn.feature_selection import mutual_info_classif\n",
        "\n",
        "# Apply Mutual Information for classification\n",
        "mi_scores = mutual_info_classif(X, y)\n",
        "\n",
        "# Create DataFrame with scores\n",
        "ig_scores = pd.DataFrame({'Feature': X.columns, 'Information Gain': mi_scores})\n",
        "ig_scores = ig_scores.sort_values(by='Information Gain', ascending=False)\n",
        "\n",
        "# Display top 10 features\n",
        "print(ig_scores.head(10))\n"
      ],
      "metadata": {
        "colab": {
          "base_uri": "https://localhost:8080/"
        },
        "id": "7Qd0oHqVp31_",
        "outputId": "f74f69ac-ab2d-4ea0-a8fb-064132c72846"
      },
      "execution_count": 30,
      "outputs": [
        {
          "output_type": "stream",
          "name": "stdout",
          "text": [
            "       Feature  Information Gain\n",
            "1      glucose          0.121804\n",
            "5          bmi          0.077754\n",
            "7          age          0.065694\n",
            "4      insulin          0.048646\n",
            "0  pregnancies          0.034335\n",
            "2    diastolic          0.027541\n",
            "6          dpf          0.011916\n",
            "3      triceps          0.009781\n"
          ]
        }
      ]
    },
    {
      "cell_type": "code",
      "source": [
        "from sklearn.feature_selection import SequentialFeatureSelector\n",
        "from sklearn.ensemble import RandomForestClassifier\n",
        "\n",
        "# Define model\n",
        "model = RandomForestClassifier()\n",
        "\n",
        "# Apply Forward Feature Selection (selecting top 5 features)\n",
        "ffs = SequentialFeatureSelector(model, n_features_to_select=5, direction='forward')\n",
        "ffs.fit(X, y)\n",
        "\n",
        "# Get selected features\n",
        "selected_features = X.columns[ffs.get_support()]\n",
        "print(\"Selected Features:\", selected_features)\n"
      ],
      "metadata": {
        "colab": {
          "base_uri": "https://localhost:8080/"
        },
        "id": "UZOYng7Xp-yP",
        "outputId": "c06cd194-3a29-4fd7-ac37-7cbaab2788ce"
      },
      "execution_count": 33,
      "outputs": [
        {
          "output_type": "stream",
          "name": "stdout",
          "text": [
            "Selected Features: Index(['glucose', 'diastolic', 'bmi', 'dpf', 'age'], dtype='object')\n"
          ]
        }
      ]
    },
    {
      "cell_type": "code",
      "source": [
        "# Apply Backward Feature Elimination (selecting top 5 features)\n",
        "bfs = SequentialFeatureSelector(model, n_features_to_select=5, direction='backward')\n",
        "bfs.fit(X, y)\n",
        "\n",
        "# Get selected features\n",
        "selected_features = X.columns[bfs.get_support()]\n",
        "print(\"Selected Features:\", selected_features)\n"
      ],
      "metadata": {
        "id": "Ihb8E_99tV22"
      },
      "execution_count": null,
      "outputs": []
    }
  ]
}